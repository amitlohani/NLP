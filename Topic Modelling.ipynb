{
 "cells": [
  {
   "cell_type": "markdown",
   "metadata": {},
   "source": [
    "# Topic Modelling with Python\n",
    "\n",
    "My emphasis is on the approach we follow in toping modelling. It totally depends on the requirement and here for my requirement below steps work well and gving good result on unseen data. \n",
    "\n",
    "**Process Followed**\n",
    " 1. Start with a corpus of articles\n",
    " 2. Identify underlying themes\n",
    " 3. Assign themes to new articles\n",
    " \n",
    " \n",
    " \n",
    "**Main Python Libraries Used**\n",
    " 1. nltk\n",
    " 2. BeautifulSoup\n",
    " 3. gensim\n",
    " 4. SnowballStemmer\n",
    " 5. TfidfVectorizer\n",
    " 6. KMeans\n",
    " 7. KNeighborsClassifier\n",
    " 8. plotly"
   ]
  },
  {
   "cell_type": "code",
   "execution_count": 1,
   "metadata": {
    "collapsed": true
   },
   "outputs": [],
   "source": [
    "## Import set of libraries which will help in our analysis"
   ]
  },
  {
   "cell_type": "code",
   "execution_count": 2,
   "metadata": {
    "collapsed": true
   },
   "outputs": [],
   "source": [
    "# Data handling libraries\n",
    "import pandas as pd\n",
    "import numpy as np\n",
    "import re\n",
    "from itertools import chain\n",
    "\n",
    "# Background image handling\n",
    "import base64\n",
    "import codecs\n",
    "from scipy.misc import imread"
   ]
  },
  {
   "cell_type": "code",
   "execution_count": 3,
   "metadata": {
    "collapsed": false
   },
   "outputs": [
    {
     "data": {
      "text/html": [
       "<script>requirejs.config({paths: { 'plotly': ['https://cdn.plot.ly/plotly-latest.min']},});if(!window.Plotly) {{require(['plotly'],function(plotly) {window.Plotly=plotly;});}}</script>"
      ],
      "text/vnd.plotly.v1+html": [
       "<script>requirejs.config({paths: { 'plotly': ['https://cdn.plot.ly/plotly-latest.min']},});if(!window.Plotly) {{require(['plotly'],function(plotly) {window.Plotly=plotly;});}}</script>"
      ]
     },
     "metadata": {},
     "output_type": "display_data"
    }
   ],
   "source": [
    "# Plot related libraries\n",
    "import plotly.offline as py\n",
    "py.init_notebook_mode(connected=True)\n",
    "import plotly.graph_objs as go\n",
    "from matplotlib import pyplot as plt\n",
    "%matplotlib inline\n",
    "from wordcloud import WordCloud"
   ]
  },
  {
   "cell_type": "code",
   "execution_count": 4,
   "metadata": {
    "collapsed": true
   },
   "outputs": [],
   "source": [
    "# Web scraping libraries\n",
    "import urllib.request\n",
    "from bs4 import BeautifulSoup"
   ]
  },
  {
   "cell_type": "code",
   "execution_count": 5,
   "metadata": {
    "collapsed": false
   },
   "outputs": [],
   "source": [
    "# NLP libraries\n",
    "import nltk\n",
    "\n",
    "import warnings\n",
    "warnings.filterwarnings(action='ignore', category=UserWarning, module='gensim')\n",
    "from gensim import corpora, models\n",
    "\n",
    "# import set of stopwords and punctuations\n",
    "from nltk.corpus import stopwords\n",
    "from string import punctuation\n",
    "from string import ascii_lowercase\n",
    "from heapq import nlargest\n",
    "\n",
    "# import set of NLP libraries\n",
    "from nltk.tokenize import RegexpTokenizer\n",
    "from nltk.stem.snowball import SnowballStemmer\n",
    "from nltk.stem import WordNetLemmatizer\n",
    "from sklearn.feature_extraction.text import CountVectorizer\n",
    "from sklearn.feature_extraction.text import TfidfVectorizer\n",
    "\n",
    "# Machine leaning algorithms\n",
    "from sklearn.cluster import KMeans\n",
    "from sklearn.neighbors import KNeighborsClassifier"
   ]
  },
  {
   "cell_type": "markdown",
   "metadata": {},
   "source": [
    "**1. Start with a corpus of articles**\n",
    "\n",
    "a. Web Scraping \n",
    " - I've used DoxyDonkey blog post as a source of articles (http://doxydonkey.blogspot.in). It has lots of short tech articles from various sources. \n",
    " - Used BeautifulSoup library which is a wonderful library for web scraping. \n",
    " - Pull all the urls of all pages present in the blogpost with iterating <'a href'> tag and text having \"Older Posts\"\n",
    " - Store all urls in a list variable i.e. links [ ]. \n",
    " "
   ]
  },
  {
   "cell_type": "code",
   "execution_count": 6,
   "metadata": {
    "collapsed": false,
    "scrolled": true
   },
   "outputs": [
    {
     "name": "stdout",
     "output_type": "stream",
     "text": [
      "Older Posts http://doxydonkey.blogspot.in/search?updated-max=2017-05-23T19:53:00-07:00&max-results=7\n",
      "Older Posts http://doxydonkey.blogspot.in/search?updated-max=2017-05-14T19:02:00-07:00&max-results=7&start=7&by-date=false\n",
      "Older Posts http://doxydonkey.blogspot.in/search?updated-max=2017-05-02T19:43:00-07:00&max-results=7&start=14&by-date=false\n",
      "Older Posts http://doxydonkey.blogspot.in/search?updated-max=2017-04-17T19:26:00-07:00&max-results=7&start=21&by-date=false\n",
      "Older Posts http://doxydonkey.blogspot.in/search?updated-max=2017-04-10T18:56:00-07:00&max-results=7&start=28&by-date=false\n",
      "Older Posts http://doxydonkey.blogspot.in/search?updated-max=2017-03-30T19:57:00-07:00&max-results=7&start=35&by-date=false\n",
      "Older Posts http://doxydonkey.blogspot.in/search?updated-max=2017-03-20T19:47:00-07:00&max-results=7&start=42&by-date=false\n",
      "Older Posts http://doxydonkey.blogspot.in/search?updated-max=2017-03-02T17:42:00-08:00&max-results=7&start=49&by-date=false\n",
      "Older Posts http://doxydonkey.blogspot.in/search?updated-max=2017-02-21T19:13:00-08:00&max-results=7&start=56&by-date=false\n",
      "Older Posts http://doxydonkey.blogspot.in/search?updated-max=2017-02-12T18:34:00-08:00&max-results=7&start=63&by-date=false\n",
      "Older Posts http://doxydonkey.blogspot.in/search?updated-max=2017-02-01T18:56:00-08:00&max-results=7&start=70&by-date=false\n",
      "Older Posts http://doxydonkey.blogspot.in/search?updated-max=2017-01-22T18:58:00-08:00&max-results=7&start=77&by-date=false\n",
      "Older Posts http://doxydonkey.blogspot.in/search?updated-max=2017-01-11T18:09:00-08:00&max-results=7&start=84&by-date=false\n",
      "Older Posts http://doxydonkey.blogspot.in/search?updated-max=2017-01-02T17:59:00-08:00&max-results=7&start=91&by-date=false\n",
      "Older Posts http://doxydonkey.blogspot.in/search?updated-max=2016-12-22T18:58:00-08:00&max-results=7&start=98&by-date=false\n",
      "Older Posts http://doxydonkey.blogspot.in/search?updated-max=2016-12-13T18:57:00-08:00&max-results=7&start=105&by-date=false\n",
      "Older Posts http://doxydonkey.blogspot.in/search?updated-max=2016-12-04T18:58:00-08:00&max-results=7&start=112&by-date=false\n",
      "Older Posts http://doxydonkey.blogspot.in/search?updated-max=2016-09-09T07:34:00-07:00&max-results=7&start=119&by-date=false\n",
      "Older Posts http://doxydonkey.blogspot.in/search?updated-max=2016-08-28T20:08:00-07:00&max-results=7&start=126&by-date=false\n",
      "Older Posts http://doxydonkey.blogspot.in/search?updated-max=2016-08-17T19:24:00-07:00&max-results=7&start=133&by-date=false\n",
      "Older Posts http://doxydonkey.blogspot.in/search?updated-max=2016-08-07T20:30:00-07:00&max-results=7&start=140&by-date=false\n",
      "Older Posts http://doxydonkey.blogspot.in/search?updated-max=2016-07-26T19:55:00-07:00&max-results=7&start=147&by-date=false\n",
      "Older Posts http://doxydonkey.blogspot.in/search?updated-max=2016-07-17T19:47:00-07:00&max-results=7&start=154&by-date=false\n",
      "Older Posts http://doxydonkey.blogspot.in/search?updated-max=2016-07-06T19:34:00-07:00&max-results=7&start=161&by-date=false\n",
      "Older Posts http://doxydonkey.blogspot.in/search?updated-max=2016-06-26T19:36:00-07:00&max-results=7&start=168&by-date=false\n",
      "Older Posts http://doxydonkey.blogspot.in/search?updated-max=2016-06-15T19:23:00-07:00&max-results=7&start=175&by-date=false\n",
      "Older Posts http://doxydonkey.blogspot.in/search?updated-max=2016-06-06T18:50:00-07:00&max-results=7&start=182&by-date=false\n",
      "Older Posts http://doxydonkey.blogspot.in/search?updated-max=2016-05-26T20:08:00-07:00&max-results=7&start=189&by-date=false\n",
      "Older Posts http://doxydonkey.blogspot.in/search?updated-max=2016-05-17T18:52:00-07:00&max-results=7&start=196&by-date=false\n",
      "Older Posts http://doxydonkey.blogspot.in/search?updated-max=2016-05-06T19:26:00-07:00&max-results=7&start=203&by-date=false\n",
      "Older Posts http://doxydonkey.blogspot.in/search?updated-max=2016-04-27T19:03:00-07:00&max-results=7&start=210&by-date=false\n",
      "Older Posts http://doxydonkey.blogspot.in/search?updated-max=2016-04-19T19:36:00-07:00&max-results=7&start=217&by-date=false\n",
      "Older Posts http://doxydonkey.blogspot.in/search?updated-max=2016-04-10T19:19:00-07:00&max-results=7&start=224&by-date=false\n",
      "Older Posts http://doxydonkey.blogspot.in/search?updated-max=2016-03-30T19:12:00-07:00&max-results=7&start=231&by-date=false\n",
      "Older Posts http://doxydonkey.blogspot.in/search?updated-max=2016-03-20T18:41:00-07:00&max-results=7&start=238&by-date=false\n",
      "Older Posts http://doxydonkey.blogspot.in/search?updated-max=2016-03-09T18:38:00-08:00&max-results=7&start=245&by-date=false\n",
      "Older Posts http://doxydonkey.blogspot.in/search?updated-max=2016-02-28T17:47:00-08:00&max-results=7&start=252&by-date=false\n",
      "Older Posts http://doxydonkey.blogspot.in/search?updated-max=2016-02-17T18:44:00-08:00&max-results=7&start=259&by-date=false\n",
      "Older Posts http://doxydonkey.blogspot.in/search?updated-max=2016-02-08T18:13:00-08:00&max-results=7&start=266&by-date=false\n",
      "Older Posts http://doxydonkey.blogspot.in/search?updated-max=2016-01-28T19:45:00-08:00&max-results=7&start=273&by-date=false\n",
      "Older Posts http://doxydonkey.blogspot.in/search?updated-max=2016-01-18T18:30:00-08:00&max-results=7&start=280&by-date=false\n",
      "Older Posts http://doxydonkey.blogspot.in/search?updated-max=2016-01-07T19:03:00-08:00&max-results=7&start=287&by-date=false\n",
      "Older Posts http://doxydonkey.blogspot.in/search?updated-max=2015-12-28T18:26:00-08:00&max-results=7&start=294&by-date=false\n",
      "Older Posts http://doxydonkey.blogspot.in/search?updated-max=2015-12-16T18:24:00-08:00&max-results=7&start=301&by-date=false\n",
      "Older Posts http://doxydonkey.blogspot.in/search?updated-max=2015-12-07T18:24:00-08:00&max-results=7&start=308&by-date=false\n",
      "Older Posts http://doxydonkey.blogspot.in/search?updated-max=2015-11-26T17:49:00-08:00&max-results=7&start=315&by-date=false\n",
      "Older Posts http://doxydonkey.blogspot.in/search?updated-max=2015-11-17T18:18:00-08:00&max-results=7&start=322&by-date=false\n",
      "Older Posts http://doxydonkey.blogspot.in/search?updated-max=2015-11-05T20:15:00-08:00&max-results=7&start=329&by-date=false\n",
      "Older Posts http://doxydonkey.blogspot.in/search?updated-max=2015-10-27T20:04:00-07:00&max-results=7&start=336&by-date=false\n",
      "Older Posts http://doxydonkey.blogspot.in/search?updated-max=2015-10-12T19:45:00-07:00&max-results=7&start=343&by-date=false\n",
      "Older Posts http://doxydonkey.blogspot.in/search?updated-max=2015-09-30T19:33:00-07:00&max-results=7&start=350&by-date=false\n",
      "Older Posts http://doxydonkey.blogspot.in/search?updated-max=2015-09-20T19:11:00-07:00&max-results=7&start=357&by-date=false\n",
      "Older Posts http://doxydonkey.blogspot.in/search?updated-max=2015-09-09T19:32:00-07:00&max-results=7&start=364&by-date=false\n",
      "Older Posts http://doxydonkey.blogspot.in/search?updated-max=2015-08-31T19:31:00-07:00&max-results=7&start=371&by-date=false\n",
      "Older Posts http://doxydonkey.blogspot.in/search?updated-max=2015-08-20T19:29:00-07:00&max-results=7&start=378&by-date=false\n",
      "Older Posts http://doxydonkey.blogspot.in/search?updated-max=2015-08-11T19:32:00-07:00&max-results=7&start=385&by-date=false\n",
      "Older Posts http://doxydonkey.blogspot.in/search?updated-max=2015-08-02T19:04:00-07:00&max-results=7&start=392&by-date=false\n",
      "Older Posts http://doxydonkey.blogspot.in/search?updated-max=2015-07-22T19:39:00-07:00&max-results=7&start=399&by-date=false\n",
      "Older Posts http://doxydonkey.blogspot.in/search?updated-max=2015-07-13T19:38:00-07:00&max-results=7&start=406&by-date=false\n",
      "Older Posts http://doxydonkey.blogspot.in/search?updated-max=2015-07-02T21:15:00-07:00&max-results=7&start=413&by-date=false\n",
      "Older Posts http://doxydonkey.blogspot.in/search?updated-max=2015-06-23T19:30:00-07:00&max-results=7&start=420&by-date=false\n",
      "Older Posts http://doxydonkey.blogspot.in/search?updated-max=2015-06-14T19:36:00-07:00&max-results=7&start=427&by-date=false\n",
      "Older Posts http://doxydonkey.blogspot.in/search?updated-max=2015-06-02T19:38:00-07:00&max-results=7&start=434&by-date=false\n",
      "Older Posts http://doxydonkey.blogspot.in/search?updated-max=2015-05-24T20:16:00-07:00&max-results=7&start=441&by-date=false\n",
      "Older Posts http://doxydonkey.blogspot.in/search?updated-max=2015-05-13T20:18:00-07:00&max-results=7&start=448&by-date=false\n",
      "Older Posts http://doxydonkey.blogspot.in/search?updated-max=2015-05-04T20:23:00-07:00&max-results=7&start=455&by-date=false\n",
      "Older Posts http://doxydonkey.blogspot.in/search?updated-max=2015-04-23T20:19:00-07:00&max-results=7&start=462&by-date=false\n",
      "Older Posts http://doxydonkey.blogspot.in/search?updated-max=2015-04-14T19:40:00-07:00&max-results=7&start=469&by-date=false\n",
      "Older Posts http://doxydonkey.blogspot.in/search?updated-max=2015-04-05T20:22:00-07:00&max-results=7&start=476&by-date=false\n",
      "Older Posts http://doxydonkey.blogspot.in/search?updated-max=2015-03-24T20:12:00-07:00&max-results=7&start=483&by-date=false\n",
      "Older Posts http://doxydonkey.blogspot.in/search?updated-max=2015-03-15T20:41:00-07:00&max-results=7&start=490&by-date=false\n",
      "Older Posts http://doxydonkey.blogspot.in/search?updated-max=2015-03-03T19:30:00-08:00&max-results=7&start=497&by-date=false\n",
      "Older Posts http://doxydonkey.blogspot.in/search?updated-max=2015-02-22T19:55:00-08:00&max-results=7&start=504&by-date=false\n",
      "Older Posts http://doxydonkey.blogspot.in/search?updated-max=2015-02-11T20:02:00-08:00&max-results=7&start=511&by-date=false\n",
      "Older Posts http://doxydonkey.blogspot.in/search?updated-max=2015-02-02T19:46:00-08:00&max-results=7&start=518&by-date=false\n",
      "Older Posts http://doxydonkey.blogspot.in/search?updated-max=2015-01-22T19:50:00-08:00&max-results=7&start=524&by-date=false\n",
      "Older Posts http://doxydonkey.blogspot.in/search?updated-max=2015-01-15T19:17:00-08:00&max-results=7&start=529&by-date=false\n",
      "Older Posts http://doxydonkey.blogspot.in/search?updated-max=2015-01-06T19:48:00-08:00&max-results=7&start=536&by-date=false\n",
      "Older Posts http://doxydonkey.blogspot.in/search?updated-max=2014-12-25T21:30:00-08:00&max-results=7&start=543&by-date=false\n",
      "Older Posts http://doxydonkey.blogspot.in/search?updated-max=2014-12-15T19:24:00-08:00&max-results=7&start=550&by-date=false\n",
      "Older Posts http://doxydonkey.blogspot.in/search?updated-max=2014-12-05T01:52:00-08:00&max-results=7&start=557&by-date=false\n",
      "Older Posts http://doxydonkey.blogspot.in/search?updated-max=2014-11-26T01:44:00-08:00&max-results=7&start=564&by-date=false\n",
      "Older Posts http://doxydonkey.blogspot.in/search?updated-max=2014-11-17T01:41:00-08:00&max-results=7&start=571&by-date=false\n",
      "Older Posts http://doxydonkey.blogspot.in/search?updated-max=2014-11-06T01:38:00-08:00&max-results=7&start=578&by-date=false\n",
      "Older Posts http://doxydonkey.blogspot.in/search?updated-max=2014-10-28T01:24:00-07:00&max-results=7&start=585&by-date=false\n",
      "Older Posts http://doxydonkey.blogspot.in/search?updated-max=2014-10-17T01:20:00-07:00&max-results=7&start=592&by-date=false\n"
     ]
    }
   ],
   "source": [
    "# Pull all URLs from doxydonkey blogs\n",
    "def getAllDoxyDonkeyPosts(url,links):\n",
    "    with urllib.request.urlopen(url) as url:\n",
    "        page = url.read().decode('utf8','ignore')\n",
    "        \n",
    "    soup = BeautifulSoup(page, \"lxml\")\n",
    "    for a in soup.findAll('a'):\n",
    "        try:\n",
    "            url = a['href']\n",
    "            title = a['title']\n",
    "            if title == \"Older Posts\":\n",
    "                print(title, url)\n",
    "                links.append(url)\n",
    "                getAllDoxyDonkeyPosts(url,links)\n",
    "        except:\n",
    "            title = \"\"\n",
    "    return\n",
    "\n",
    "blogUrl = \"http://doxydonkey.blogspot.in\"\n",
    "links = []\n",
    "getAllDoxyDonkeyPosts(blogUrl,links)"
   ]
  },
  {
   "cell_type": "markdown",
   "metadata": {},
   "source": [
    "\n",
    "b. Define Helper Functions"
   ]
  },
  {
   "cell_type": "code",
   "execution_count": 7,
   "metadata": {
    "collapsed": false
   },
   "outputs": [],
   "source": [
    "# Function to remove non-ascii charecters from corpus\n",
    "def removeNonAscii(text):\n",
    "    # re.sub(r'[^\\x00-\\x7F]+',' ', text)\n",
    "    return ''.join([i if ord(i) < 128 else ' ' for i in text])\n",
    "\n",
    "# Function to remove digits from corpus\n",
    "def removeDigits(text):\n",
    "    return re.sub(r'\\d+', ' ', text)"
   ]
  },
  {
   "cell_type": "markdown",
   "metadata": {},
   "source": [
    "c. Helper function to pull all articles present <'li'> tags. You can check it with Inspect Element of web page."
   ]
  },
  {
   "cell_type": "code",
   "execution_count": 8,
   "metadata": {
    "collapsed": true
   },
   "outputs": [],
   "source": [
    "# Function to pull all articles from doxydonkey blogs\n",
    "def getDoxyDonkeyText(testUrl):\n",
    "    with urllib.request.urlopen(testUrl) as url:\n",
    "        page = url.read().decode('utf8','ignore')\n",
    "        \n",
    "    soup = BeautifulSoup(page, \"lxml\")\n",
    "    mydivs = soup.findAll(\"div\", {\"class\":'post-body'})\n",
    "    \n",
    "    posts =[]\n",
    "    for div in mydivs:\n",
    "        posts+=map(lambda p:removeNonAscii(p.text), div.findAll(\"li\"))\n",
    "        #posts+=map(lambda p:p.text.encode('ascii', errors='replace').replace(\"?\",\" \"), div.findAll(\"li\"))\n",
    "    return posts"
   ]
  },
  {
   "cell_type": "markdown",
   "metadata": {},
   "source": [
    "d. Define and store articles in a list variable i.e. doxyDonkeyPosts [ ]"
   ]
  },
  {
   "cell_type": "code",
   "execution_count": 9,
   "metadata": {
    "collapsed": false
   },
   "outputs": [],
   "source": [
    "# Pull all articles \n",
    "doxyDonkeyPosts = []\n",
    "for link in links:\n",
    "    doxyDonkeyPosts+=getDoxyDonkeyText(link)"
   ]
  },
  {
   "cell_type": "code",
   "execution_count": null,
   "metadata": {
    "collapsed": false,
    "scrolled": true
   },
   "outputs": [],
   "source": [
    "# doxyDonkeyPosts"
   ]
  },
  {
   "cell_type": "markdown",
   "metadata": {},
   "source": [
    "e. Define a list of custom stop words faced during the analysis. Actaully we don't need these words in analysis as these are not giving any meanning to the conext.  "
   ]
  },
  {
   "cell_type": "code",
   "execution_count": 10,
   "metadata": {
    "collapsed": true
   },
   "outputs": [],
   "source": [
    "# stopwords in english using NLTK and punctuation symbol from the Python string module\n",
    "# order doesn't matter so store in set not list\n",
    "my_list = [\"'s\", \"'t\", \"n't\", \"'ll\", \"'re\", \"'ve\", \"'m\", \n",
    "           \"wo\", \"Mr.\", \"mr.\", \"Mr\", \"mr\", \"Mrs.\", \"mrs.\", \"Mrs\", \"mrs\", \n",
    "           \"million\",\"billion\",\"year\",\"millions\",\"billions\",\"y/y\",\n",
    "           \"''\",\"``\", \"\",  \"--\", \"...\", \"..\", \" \", \" . \", \",\" \n",
    "           \"also\", \"said\", \"like\",\n",
    "           \"company\", \"co\", \"le\"]\n",
    "\n",
    "customStopWords = set(stopwords.words('english')+list(punctuation)+list(ascii_lowercase)+my_list)"
   ]
  },
  {
   "cell_type": "code",
   "execution_count": null,
   "metadata": {
    "collapsed": false
   },
   "outputs": [],
   "source": [
    "# tokenize_and_stem(doxyDonkeyPosts)"
   ]
  },
  {
   "cell_type": "markdown",
   "metadata": {},
   "source": [
    "f. Define different helper function for tokenizing and stemming texts. We will use these whenever it is required."
   ]
  },
  {
   "cell_type": "code",
   "execution_count": 11,
   "metadata": {
    "collapsed": true
   },
   "outputs": [],
   "source": [
    "# I use both these functions to create a dictionary which becomes important in case I want to use stems for an algorithm, \n",
    "# but later convert stems back to their full words for presentation purposes. Guess what, I do want to do that!\n",
    "\n",
    "# Here I define a tokenizer and stemmer which returns the set of stems in the text that it is passed\n",
    "\n",
    "tokenizer = RegexpTokenizer(r'\\w+')\n",
    "stemmer = nltk.stem.SnowballStemmer(\"english\")\n",
    "\n",
    "# Tokenize and stem words present in article\n",
    "def tokenizeAndStem(text):\n",
    "    # first tokenize by sentence, then by word to ensure that punctuation is caught as it's own token\n",
    "    tokens = [removeDigits(word.lower()) for sent in nltk.sent_tokenize(text) for word in nltk.word_tokenize(sent)]\n",
    "    \n",
    "    stems_tokens = []\n",
    "    # filter out any tokens not containing letters (e.g., numeric tokens, raw punctuation)\n",
    "    stopped_tokens = [stemmer.stem(t) for t in tokens if not t in customStopWords]\n",
    "    stems_tokens.append(stopped_tokens)\n",
    "    return stems_tokens\n",
    "\n",
    "# Tokenize words present in article\n",
    "def tokenizeOnly(text):\n",
    "    # first tokenize by sentence, then by word to ensure that punctuation is caught as it's own token\n",
    "    tokens = [removeDigits(word.lower()) for sent in nltk.sent_tokenize(text) for word in nltk.word_tokenize(sent)]\n",
    "    # [tokenizer.tokenize(removeDigits(d.lower())) for d in text]\n",
    "    filtered_tokens = []\n",
    "    # filter out any tokens not containing letters (e.g., numeric tokens, raw punctuation)\n",
    "    \n",
    "    stopped_tokens = [t for t in tokens if not t in customStopWords]\n",
    "    filtered_tokens.append(stopped_tokens)\n",
    "    return filtered_tokens\n",
    "\n",
    "# Tokenize and stem words from list of articles \n",
    "def tokenizeAndStemArticles(text):\n",
    "    # tokenizer = RegexpTokenizer(r'\\w+')\n",
    "    # first tokenize by sentence, then by word to ensure that punctuation is caught as it's own token\n",
    "    tokens = [tokenizer.tokenize(removeDigits(d.lower())) for d in doxyDonkeyPosts]\n",
    "    filtered_tokens = []\n",
    "    # filter out any tokens not containing letters (e.g., numeric tokens, raw punctuation)\n",
    "    for token_l in tokens:\n",
    "        stopped_tokens = [t for t in token_l if not t in customStopWords]\n",
    "        filtered_tokens.append(stopped_tokens)\n",
    "    stems = [stemmer.stem(word) for t in filtered_tokens for word in t]\n",
    "    return stems"
   ]
  },
  {
   "cell_type": "code",
   "execution_count": null,
   "metadata": {
    "collapsed": false
   },
   "outputs": [],
   "source": [
    "# example_words = [\"I am accounting the account of India\", \"India accountability is under run.\"]\n",
    "# tokenizeAndStem(example_words[1])"
   ]
  },
  {
   "cell_type": "markdown",
   "metadata": {},
   "source": [
    "g. Below I use my stemming/tokenizing and tokenizing functions to iterate over the list of articles to create two vocabularies: one stemmed and one only tokenized. "
   ]
  },
  {
   "cell_type": "code",
   "execution_count": 12,
   "metadata": {
    "collapsed": false
   },
   "outputs": [],
   "source": [
    "# Tokenized and ttemmed list of words\n",
    "wordsStemmed = []\n",
    "\n",
    "# Tokenized list of words\n",
    "wordsTokenized = []\n",
    "\n",
    "for i in doxyDonkeyPosts:\n",
    "    allwords_stemmed = tokenizeAndStem(i) #for each item in 'doxyDonkeyPosts', tokenize/stem\n",
    "    wordsStemmed.extend(allwords_stemmed) #extend the 'wordsStemmed' list\n",
    "    \n",
    "    allwords_tokenized = tokenizeOnly(i)\n",
    "    wordsTokenized.extend(allwords_tokenized)"
   ]
  },
  {
   "cell_type": "markdown",
   "metadata": {},
   "source": [
    "h. Using these two lists, I create a pandas DataFrame with the stemmed vocabulary as the index and the tokenized words as the column. The benefit of this is it provides an efficient way to look up a stem and return a full token."
   ]
  },
  {
   "cell_type": "code",
   "execution_count": 13,
   "metadata": {
    "collapsed": false
   },
   "outputs": [
    {
     "name": "stdout",
     "output_type": "stream",
     "text": [
      "There are 396110 items in pd_wordsWOStopwords data frame\n"
     ]
    }
   ],
   "source": [
    "\n",
    "pd_wordsWOStopwords = pd.DataFrame({'words': list(chain.from_iterable(wordsTokenized))}, \n",
    "                                   index = list(chain.from_iterable(wordsStemmed)))\n",
    "print('There are ' + str(pd_wordsWOStopwords.shape[0]) + ' items in pd_wordsWOStopwords data frame')"
   ]
  },
  {
   "cell_type": "code",
   "execution_count": 14,
   "metadata": {
    "collapsed": false
   },
   "outputs": [
    {
     "data": {
      "text/html": [
       "<div>\n",
       "<table border=\"1\" class=\"dataframe\">\n",
       "  <thead>\n",
       "    <tr style=\"text-align: right;\">\n",
       "      <th></th>\n",
       "      <th>words</th>\n",
       "    </tr>\n",
       "  </thead>\n",
       "  <tbody>\n",
       "    <tr>\n",
       "      <th>softbank</th>\n",
       "      <td>softbank</td>\n",
       "    </tr>\n",
       "    <tr>\n",
       "      <th>tech</th>\n",
       "      <td>tech</td>\n",
       "    </tr>\n",
       "    <tr>\n",
       "      <th>fund</th>\n",
       "      <td>fund</td>\n",
       "    </tr>\n",
       "    <tr>\n",
       "      <th>rankl</th>\n",
       "      <td>rankles</td>\n",
       "    </tr>\n",
       "    <tr>\n",
       "      <th>vcs</th>\n",
       "      <td>vcs</td>\n",
       "    </tr>\n",
       "    <tr>\n",
       "      <th>valuat</th>\n",
       "      <td>valuations</td>\n",
       "    </tr>\n",
       "    <tr>\n",
       "      <th>soar</th>\n",
       "      <td>soar</td>\n",
       "    </tr>\n",
       "    <tr>\n",
       "      <th>month</th>\n",
       "      <td>months</td>\n",
       "    </tr>\n",
       "    <tr>\n",
       "      <th>sinc</th>\n",
       "      <td>since</td>\n",
       "    </tr>\n",
       "    <tr>\n",
       "      <th>softbank</th>\n",
       "      <td>softbank</td>\n",
       "    </tr>\n",
       "  </tbody>\n",
       "</table>\n",
       "</div>"
      ],
      "text/plain": [
       "               words\n",
       "softbank    softbank\n",
       "tech            tech\n",
       "fund            fund\n",
       "rankl        rankles\n",
       "vcs              vcs\n",
       "valuat    valuations\n",
       "soar            soar\n",
       "month         months\n",
       "sinc           since\n",
       "softbank    softbank"
      ]
     },
     "execution_count": 14,
     "metadata": {},
     "output_type": "execute_result"
    }
   ],
   "source": [
    "pd_wordsWOStopwords.head(10)"
   ]
  },
  {
   "cell_type": "code",
   "execution_count": null,
   "metadata": {
    "collapsed": false,
    "scrolled": false
   },
   "outputs": [],
   "source": [
    "# lemm = WordNetLemmatizer()\n",
    "\n",
    "# texts = []\n",
    "# for token_l in tokens:\n",
    "#     stopped_tokens = [t for t in token_l if not t in customStopWords]\n",
    "#     lemmed_texts = [lemm.lemmatize(w) for w in stopped_tokens]\n",
    "#     texts.append(lemmed_texts)\n",
    "# # print(texts)"
   ]
  },
  {
   "cell_type": "markdown",
   "metadata": {},
   "source": [
    "i. Bolow are some plots to understand the data. I've Bar graph and Word Cloud view to show the gist of words available in corpus."
   ]
  },
  {
   "cell_type": "code",
   "execution_count": 15,
   "metadata": {
    "collapsed": true
   },
   "outputs": [],
   "source": [
    "tokenizer = RegexpTokenizer(r'\\w+')\n",
    "allWords = [tokenizer.tokenize(d.lower()) for d in doxyDonkeyPosts]\n",
    "\n",
    "allWords = list(chain.from_iterable(allWords))\n",
    "# allWords"
   ]
  },
  {
   "cell_type": "code",
   "execution_count": 16,
   "metadata": {
    "collapsed": false,
    "scrolled": false
   },
   "outputs": [
    {
     "data": {
      "application/vnd.plotly.v1+json": {
       "data": [
        {
         "marker": {
          "color": [
           34151,
           21203,
           17300,
           16470,
           15466,
           15346,
           10454,
           8354,
           7830,
           7053,
           6813,
           6765,
           5866,
           5228,
           5055,
           4629,
           3995,
           3926,
           3696,
           3650,
           3323,
           3111,
           3024,
           2980,
           2852,
           2825,
           2723,
           2695,
           2628,
           2617,
           2600,
           2477,
           2477,
           2342,
           2282,
           2230,
           2219,
           2135,
           2060,
           2039,
           1947,
           1940,
           1767,
           1757,
           1745,
           1717,
           1698,
           1653,
           1608,
           1599
          ],
          "colorscale": "Jet"
         },
         "text": "Text entries",
         "type": "bar",
         "x": [
          "the",
          "to",
          "a",
          "of",
          "and",
          "in",
          "s",
          "that",
          "for",
          "is",
          "it",
          "on",
          "its",
          "with",
          "as",
          "company",
          "has",
          "from",
          "said",
          "at",
          "by",
          "are",
          "more",
          "an",
          "billion",
          "percent",
          "million",
          "be",
          "year",
          "which",
          "will",
          "have",
          "was",
          "new",
          "this",
          "but",
          "than",
          "or",
          "up",
          "their",
          "google",
          "they",
          "facebook",
          "about",
          "amazon",
          "also",
          "apple",
          "not",
          "can",
          "revenue"
         ],
         "y": [
          34151,
          21203,
          17300,
          16470,
          15466,
          15346,
          10454,
          8354,
          7830,
          7053,
          6813,
          6765,
          5866,
          5228,
          5055,
          4629,
          3995,
          3926,
          3696,
          3650,
          3323,
          3111,
          3024,
          2980,
          2852,
          2825,
          2723,
          2695,
          2628,
          2617,
          2600,
          2477,
          2477,
          2342,
          2282,
          2230,
          2219,
          2135,
          2060,
          2039,
          1947,
          1940,
          1767,
          1757,
          1745,
          1717,
          1698,
          1653,
          1608,
          1599
         ]
        }
       ],
       "layout": {
        "title": "Top 50 Words from Corpus"
       }
      },
      "text/html": [
       "<div id=\"09e91b94-1d52-48c1-a770-a0fe95f97be5\" style=\"height: 525px; width: 100%;\" class=\"plotly-graph-div\"></div><script type=\"text/javascript\">require([\"plotly\"], function(Plotly) { window.PLOTLYENV=window.PLOTLYENV || {};window.PLOTLYENV.BASE_URL=\"https://plot.ly\";Plotly.newPlot(\"09e91b94-1d52-48c1-a770-a0fe95f97be5\", [{\"type\": \"bar\", \"x\": [\"the\", \"to\", \"a\", \"of\", \"and\", \"in\", \"s\", \"that\", \"for\", \"is\", \"it\", \"on\", \"its\", \"with\", \"as\", \"company\", \"has\", \"from\", \"said\", \"at\", \"by\", \"are\", \"more\", \"an\", \"billion\", \"percent\", \"million\", \"be\", \"year\", \"which\", \"will\", \"have\", \"was\", \"new\", \"this\", \"but\", \"than\", \"or\", \"up\", \"their\", \"google\", \"they\", \"facebook\", \"about\", \"amazon\", \"also\", \"apple\", \"not\", \"can\", \"revenue\"], \"y\": [34151, 21203, 17300, 16470, 15466, 15346, 10454, 8354, 7830, 7053, 6813, 6765, 5866, 5228, 5055, 4629, 3995, 3926, 3696, 3650, 3323, 3111, 3024, 2980, 2852, 2825, 2723, 2695, 2628, 2617, 2600, 2477, 2477, 2342, 2282, 2230, 2219, 2135, 2060, 2039, 1947, 1940, 1767, 1757, 1745, 1717, 1698, 1653, 1608, 1599], \"marker\": {\"colorscale\": \"Jet\", \"color\": [34151, 21203, 17300, 16470, 15466, 15346, 10454, 8354, 7830, 7053, 6813, 6765, 5866, 5228, 5055, 4629, 3995, 3926, 3696, 3650, 3323, 3111, 3024, 2980, 2852, 2825, 2723, 2695, 2628, 2617, 2600, 2477, 2477, 2342, 2282, 2230, 2219, 2135, 2060, 2039, 1947, 1940, 1767, 1757, 1745, 1717, 1698, 1653, 1608, 1599]}, \"text\": \"Text entries\"}], {\"title\": \"Top 50 Words from Corpus\"}, {\"showLink\": true, \"linkText\": \"Export to plot.ly\"})});</script>"
      ],
      "text/vnd.plotly.v1+html": [
       "<div id=\"09e91b94-1d52-48c1-a770-a0fe95f97be5\" style=\"height: 525px; width: 100%;\" class=\"plotly-graph-div\"></div><script type=\"text/javascript\">require([\"plotly\"], function(Plotly) { window.PLOTLYENV=window.PLOTLYENV || {};window.PLOTLYENV.BASE_URL=\"https://plot.ly\";Plotly.newPlot(\"09e91b94-1d52-48c1-a770-a0fe95f97be5\", [{\"type\": \"bar\", \"x\": [\"the\", \"to\", \"a\", \"of\", \"and\", \"in\", \"s\", \"that\", \"for\", \"is\", \"it\", \"on\", \"its\", \"with\", \"as\", \"company\", \"has\", \"from\", \"said\", \"at\", \"by\", \"are\", \"more\", \"an\", \"billion\", \"percent\", \"million\", \"be\", \"year\", \"which\", \"will\", \"have\", \"was\", \"new\", \"this\", \"but\", \"than\", \"or\", \"up\", \"their\", \"google\", \"they\", \"facebook\", \"about\", \"amazon\", \"also\", \"apple\", \"not\", \"can\", \"revenue\"], \"y\": [34151, 21203, 17300, 16470, 15466, 15346, 10454, 8354, 7830, 7053, 6813, 6765, 5866, 5228, 5055, 4629, 3995, 3926, 3696, 3650, 3323, 3111, 3024, 2980, 2852, 2825, 2723, 2695, 2628, 2617, 2600, 2477, 2477, 2342, 2282, 2230, 2219, 2135, 2060, 2039, 1947, 1940, 1767, 1757, 1745, 1717, 1698, 1653, 1608, 1599], \"marker\": {\"colorscale\": \"Jet\", \"color\": [34151, 21203, 17300, 16470, 15466, 15346, 10454, 8354, 7830, 7053, 6813, 6765, 5866, 5228, 5055, 4629, 3995, 3926, 3696, 3650, 3323, 3111, 3024, 2980, 2852, 2825, 2723, 2695, 2628, 2617, 2600, 2477, 2477, 2342, 2282, 2230, 2219, 2135, 2060, 2039, 1947, 1940, 1767, 1757, 1745, 1717, 1698, 1653, 1608, 1599]}, \"text\": \"Text entries\"}], {\"title\": \"Top 50 Words from Corpus\"}, {\"showLink\": true, \"linkText\": \"Export to plot.ly\"})});</script>"
      ]
     },
     "metadata": {},
     "output_type": "display_data"
    }
   ],
   "source": [
    "word_dist = nltk.FreqDist(allWords)\n",
    "result = pd.DataFrame(word_dist.most_common(50), columns=['Word', 'Frequency']) # .set_index('Word')\n",
    "\n",
    "data = [go.Bar(\n",
    "            x = result.loc[:,'Word'].values,\n",
    "            y = result.loc[:,'Frequency'].values,\n",
    "            marker= dict(colorscale='Jet',\n",
    "                         color = result.loc[:,'Frequency'].values\n",
    "                        ),\n",
    "            text='Text entries'\n",
    "    )]\n",
    "\n",
    "layout = go.Layout(\n",
    "    title='Top 50 Words from Corpus'\n",
    ")\n",
    "\n",
    "fig = go.Figure(data=data, layout=layout)\n",
    "\n",
    "py.iplot(fig, filename='basic-bar')"
   ]
  },
  {
   "cell_type": "code",
   "execution_count": 17,
   "metadata": {
    "collapsed": false,
    "scrolled": false
   },
   "outputs": [
    {
     "data": {
      "application/vnd.plotly.v1+json": {
       "data": [
        {
         "marker": {
          "color": [
           2816,
           2330,
           1913,
           1739,
           1716,
           1686,
           1583,
           1567,
           1542,
           1491,
           1404,
           1394,
           1387,
           1333,
           1308,
           1248,
           1213,
           1209,
           1199,
           1194,
           1181,
           1175,
           1159,
           1156,
           1114,
           1063,
           1008,
           962,
           952,
           950,
           910,
           906,
           895,
           887,
           867,
           855,
           838,
           821,
           810,
           786,
           768,
           767,
           760,
           730,
           702,
           701,
           689,
           682,
           672,
           671
          ],
          "colorscale": "Jet"
         },
         "text": "Text entries",
         "type": "bar",
         "x": [
          "percent",
          "new",
          "google",
          "facebook",
          "also",
          "apple",
          "revenue",
          "amazon",
          "companies",
          "last",
          "one",
          "users",
          "business",
          "people",
          "would",
          "china",
          "data",
          "service",
          "according",
          "mobile",
          "market",
          "uber",
          "online",
          "app",
          "sales",
          "first",
          "investors",
          "quarter",
          "technology",
          "twitter",
          "services",
          "shares",
          "time",
          "could",
          "india",
          "alibaba",
          "years",
          "growth",
          " , ",
          "two",
          "customers",
          "make",
          "share",
          "internet",
          "may",
          "many",
          "software",
          "including",
          "products",
          "much"
         ],
         "y": [
          2816,
          2330,
          1913,
          1739,
          1716,
          1686,
          1583,
          1567,
          1542,
          1491,
          1404,
          1394,
          1387,
          1333,
          1308,
          1248,
          1213,
          1209,
          1199,
          1194,
          1181,
          1175,
          1159,
          1156,
          1114,
          1063,
          1008,
          962,
          952,
          950,
          910,
          906,
          895,
          887,
          867,
          855,
          838,
          821,
          810,
          786,
          768,
          767,
          760,
          730,
          702,
          701,
          689,
          682,
          672,
          671
         ]
        }
       ],
       "layout": {
        "title": "Top 50 Words After Cleaning"
       }
      },
      "text/html": [
       "<div id=\"0772dca3-5f07-436d-8ef1-dcdfbade6ee2\" style=\"height: 525px; width: 100%;\" class=\"plotly-graph-div\"></div><script type=\"text/javascript\">require([\"plotly\"], function(Plotly) { window.PLOTLYENV=window.PLOTLYENV || {};window.PLOTLYENV.BASE_URL=\"https://plot.ly\";Plotly.newPlot(\"0772dca3-5f07-436d-8ef1-dcdfbade6ee2\", [{\"type\": \"bar\", \"x\": [\"percent\", \"new\", \"google\", \"facebook\", \"also\", \"apple\", \"revenue\", \"amazon\", \"companies\", \"last\", \"one\", \"users\", \"business\", \"people\", \"would\", \"china\", \"data\", \"service\", \"according\", \"mobile\", \"market\", \"uber\", \"online\", \"app\", \"sales\", \"first\", \"investors\", \"quarter\", \"technology\", \"twitter\", \"services\", \"shares\", \"time\", \"could\", \"india\", \"alibaba\", \"years\", \"growth\", \" , \", \"two\", \"customers\", \"make\", \"share\", \"internet\", \"may\", \"many\", \"software\", \"including\", \"products\", \"much\"], \"y\": [2816, 2330, 1913, 1739, 1716, 1686, 1583, 1567, 1542, 1491, 1404, 1394, 1387, 1333, 1308, 1248, 1213, 1209, 1199, 1194, 1181, 1175, 1159, 1156, 1114, 1063, 1008, 962, 952, 950, 910, 906, 895, 887, 867, 855, 838, 821, 810, 786, 768, 767, 760, 730, 702, 701, 689, 682, 672, 671], \"marker\": {\"colorscale\": \"Jet\", \"color\": [2816, 2330, 1913, 1739, 1716, 1686, 1583, 1567, 1542, 1491, 1404, 1394, 1387, 1333, 1308, 1248, 1213, 1209, 1199, 1194, 1181, 1175, 1159, 1156, 1114, 1063, 1008, 962, 952, 950, 910, 906, 895, 887, 867, 855, 838, 821, 810, 786, 768, 767, 760, 730, 702, 701, 689, 682, 672, 671]}, \"text\": \"Text entries\"}], {\"title\": \"Top 50 Words After Cleaning\"}, {\"showLink\": true, \"linkText\": \"Export to plot.ly\"})});</script>"
      ],
      "text/vnd.plotly.v1+html": [
       "<div id=\"0772dca3-5f07-436d-8ef1-dcdfbade6ee2\" style=\"height: 525px; width: 100%;\" class=\"plotly-graph-div\"></div><script type=\"text/javascript\">require([\"plotly\"], function(Plotly) { window.PLOTLYENV=window.PLOTLYENV || {};window.PLOTLYENV.BASE_URL=\"https://plot.ly\";Plotly.newPlot(\"0772dca3-5f07-436d-8ef1-dcdfbade6ee2\", [{\"type\": \"bar\", \"x\": [\"percent\", \"new\", \"google\", \"facebook\", \"also\", \"apple\", \"revenue\", \"amazon\", \"companies\", \"last\", \"one\", \"users\", \"business\", \"people\", \"would\", \"china\", \"data\", \"service\", \"according\", \"mobile\", \"market\", \"uber\", \"online\", \"app\", \"sales\", \"first\", \"investors\", \"quarter\", \"technology\", \"twitter\", \"services\", \"shares\", \"time\", \"could\", \"india\", \"alibaba\", \"years\", \"growth\", \" , \", \"two\", \"customers\", \"make\", \"share\", \"internet\", \"may\", \"many\", \"software\", \"including\", \"products\", \"much\"], \"y\": [2816, 2330, 1913, 1739, 1716, 1686, 1583, 1567, 1542, 1491, 1404, 1394, 1387, 1333, 1308, 1248, 1213, 1209, 1199, 1194, 1181, 1175, 1159, 1156, 1114, 1063, 1008, 962, 952, 950, 910, 906, 895, 887, 867, 855, 838, 821, 810, 786, 768, 767, 760, 730, 702, 701, 689, 682, 672, 671], \"marker\": {\"colorscale\": \"Jet\", \"color\": [2816, 2330, 1913, 1739, 1716, 1686, 1583, 1567, 1542, 1491, 1404, 1394, 1387, 1333, 1308, 1248, 1213, 1209, 1199, 1194, 1181, 1175, 1159, 1156, 1114, 1063, 1008, 962, 952, 950, 910, 906, 895, 887, 867, 855, 838, 821, 810, 786, 768, 767, 760, 730, 702, 701, 689, 682, 672, 671]}, \"text\": \"Text entries\"}], {\"title\": \"Top 50 Words After Cleaning\"}, {\"showLink\": true, \"linkText\": \"Export to plot.ly\"})});</script>"
      ]
     },
     "metadata": {},
     "output_type": "display_data"
    }
   ],
   "source": [
    "wordsWOStopwords = list(chain.from_iterable(wordsTokenized))\n",
    "\n",
    "word_dist = nltk.FreqDist(wordsWOStopwords)\n",
    "result = pd.DataFrame(word_dist.most_common(50), columns=['Word', 'Frequency']) # .set_index('Word')\n",
    "# print(result)\n",
    "\n",
    "data = [go.Bar(\n",
    "            x = result.loc[:,'Word'].values,\n",
    "            y = result.loc[:,'Frequency'].values,\n",
    "            marker= dict(colorscale='Jet',\n",
    "                         color = result.loc[:,'Frequency'].values\n",
    "                        ),\n",
    "            text='Text entries'\n",
    "    )]\n",
    "\n",
    "layout = go.Layout(\n",
    "    title='Top 50 Words After Cleaning'\n",
    ")\n",
    "\n",
    "fig = go.Figure(data=data, layout=layout)\n",
    "\n",
    "py.iplot(fig, filename='basic-bar')"
   ]
  },
  {
   "cell_type": "code",
   "execution_count": 18,
   "metadata": {
    "collapsed": true
   },
   "outputs": [],
   "source": [
    "with open(\"../DoxyDonkey Topic Modelling/image/batman.png\", \"rb\") as image_file:\n",
    "    encoded_string = base64.b64encode(image_file.read())    \n",
    "\n",
    "# Generate the Mask\n",
    "f1 = open(\"batman.png\", \"wb\")\n",
    "f1.write(codecs.decode(encoded_string,'base64'))\n",
    "f1.close()\n",
    "cloudMask = imread(\"batman.png\")"
   ]
  },
  {
   "cell_type": "code",
   "execution_count": 19,
   "metadata": {
    "collapsed": false
   },
   "outputs": [
    {
     "data": {
      "text/plain": [
       "(-0.5, 1586.5, 906.5, -0.5)"
      ]
     },
     "execution_count": 19,
     "metadata": {},
     "output_type": "execute_result"
    },
    {
     "data": {
      "image/png": "[encoded data removed]",
      "text/plain": [
       "<matplotlib.figure.Figure at 0x12a2ee48>"
      ]
     },
     "metadata": {},
     "output_type": "display_data"
    }
   ],
   "source": [
    "plt.figure(figsize=(20,18))\n",
    "# The wordcloud of top 100 words from corpus \n",
    "wc = WordCloud(background_color=\"black\", max_words=250, \n",
    "               mask=cloudMask, max_font_size= 40)\n",
    "wc.generate(\", \".join(wordsWOStopwords))\n",
    "plt.title(\"Top 250 Words from Corpus After Cleaning\")\n",
    "plt.imshow(wc.recolor( colormap= 'PuBu' , random_state=17), alpha=0.9)\n",
    "plt.axis('off')"
   ]
  },
  {
   "cell_type": "markdown",
   "metadata": {},
   "source": [
    "**2. Identify underlying themes**\n",
    "\n",
    "Here I've followed two approaches to identify underlying themes in articles. First is with Latent Dirichlet Allocation (LDA) and second with K-means clustering. \n"
   ]
  },
  {
   "cell_type": "markdown",
   "metadata": {},
   "source": [
    "a. Latent Dirichlet Allocation (LDA) approach"
   ]
  },
  {
   "cell_type": "code",
   "execution_count": 20,
   "metadata": {
    "collapsed": false,
    "scrolled": true
   },
   "outputs": [],
   "source": [
    "# turn our tokenized documents into a id <-> term dictionary\n",
    "dictionary = corpora.Dictionary(wordsTokenized)\n",
    "\n",
    "# convert tokenized documents into a document-term matrix\n",
    "corpus = [dictionary.doc2bow(text) for text in wordsTokenized]"
   ]
  },
  {
   "cell_type": "code",
   "execution_count": 21,
   "metadata": {
    "collapsed": false
   },
   "outputs": [],
   "source": [
    "# generate LDA model\n",
    "ldamodel = models.ldamodel.LdaModel(corpus, num_topics=3, id2word = dictionary, passes=100)"
   ]
  },
  {
   "cell_type": "code",
   "execution_count": 78,
   "metadata": {
    "collapsed": false
   },
   "outputs": [
    {
     "name": "stdout",
     "output_type": "stream",
     "text": [
      "[(0, '0.007*\"uber\" + 0.006*\"companies\" + 0.005*\"new\" + 0.005*\"google\" + 0.004*\"investors\" + 0.004*\"one\" + 0.004*\"also\" + 0.004*\"india\" + 0.004*\"round\" + 0.004*\"last\" + 0.004*\"data\" + 0.004*\"technology\" + 0.004*\"capital\" + 0.004*\"funding\" + 0.003*\"business\" + 0.003*\"raised\" + 0.003*\"would\" + 0.003*\"software\" + 0.003*\"people\" + 0.003*\"firm\"'), (1, '0.017*\"percent\" + 0.009*\"revenue\" + 0.009*\"china\" + 0.008*\"apple\" + 0.007*\"alibaba\" + 0.006*\"quarter\" + 0.006*\"sales\" + 0.006*\"market\" + 0.006*\"shares\" + 0.005*\"last\" + 0.005*\"new\" + 0.005*\"growth\" + 0.005*\"business\" + 0.004*\"according\" + 0.004*\"chinese\" + 0.004*\"share\" + 0.004*\"also\" + 0.004*\"stock\" + 0.003*\"first\" + 0.003*\"would\"'), (2, '0.011*\"facebook\" + 0.009*\"users\" + 0.008*\"amazon\" + 0.007*\"app\" + 0.007*\"google\" + 0.006*\"new\" + 0.006*\"mobile\" + 0.006*\"twitter\" + 0.005*\"service\" + 0.005*\"people\" + 0.005*\"ads\" + 0.005*\"also\" + 0.004*\"online\" + 0.004*\"video\" + 0.004*\"one\" + 0.003*\"apps\" + 0.003*\"ad\" + 0.003*\"data\" + 0.003*\"use\" + 0.003*\"apple\"')]\n"
     ]
    }
   ],
   "source": [
    "print(ldamodel.print_topics(num_topics=3, num_words=20))"
   ]
  },
  {
   "cell_type": "code",
   "execution_count": 79,
   "metadata": {
    "collapsed": false
   },
   "outputs": [],
   "source": [
    "# # identify bigrams\n",
    "# from nltk.collocations import *\n",
    "# bigram_measures = nltk.collocations.BigramAssocMeasures()\n",
    "\n",
    "# # construct bigram from a list of words\n",
    "# finder = BigramCollocationFinder.from_words(wordsWOStopwords)\n",
    "# sorted(finder.ngram_fd.items())"
   ]
  },
  {
   "cell_type": "code",
   "execution_count": 80,
   "metadata": {
    "collapsed": false,
    "scrolled": true
   },
   "outputs": [],
   "source": [
    "# count_vectorizer = CountVectorizer(stop_words=customStopWords)\n",
    "# sentence_transform = count_vectorizer.fit_transform(wordsWOStopwords)\n",
    "\n",
    "# print(\"The features are:\\n {}\".format(count_vectorizer.get_feature_names()))\n",
    "# print(\"\\nThe vectorized array looks like:\\n {}\".format(sentence_transform.toarray()))\n",
    "# print(\"_\"*90)\n",
    "# print(\"Length of original list: {0} words\\n\"\n",
    "#       \"Length of list after stopwords removal: {1} words\"\n",
    "#       .format(len(doxyDonkeyPosts[0]), len(count_vectorizer.get_feature_names())))"
   ]
  },
  {
   "cell_type": "code",
   "execution_count": 81,
   "metadata": {
    "collapsed": false
   },
   "outputs": [],
   "source": [
    "# print(count_vectorizer.inverse_transform(sentence_transform))\n",
    "# print(sentence_transform[0])"
   ]
  },
  {
   "cell_type": "code",
   "execution_count": 82,
   "metadata": {
    "collapsed": true
   },
   "outputs": [],
   "source": [
    "# define vectorizer parameters\n",
    "# tfidfVectorizer = TfidfVectorizer(max_df=0.8, max_features=200000,\n",
    "#                                  min_df=0.2, stop_words=customStopWords,\n",
    "#                                  use_idf=True, tokenizer=tokenize_and_stem, ngram_range=(1,3))\n",
    "\n",
    "# # Taking max_df and min_df to deault to remove prunning error \n",
    "# tfidfVectorizer = TfidfVectorizer(stop_words=customStopWords, use_idf=True, \n",
    "#                                   tokenizer=tokenizeAndStemArticles, ngram_range=(1,2))"
   ]
  },
  {
   "cell_type": "markdown",
   "metadata": {},
   "source": [
    "b. K-means clustering approach"
   ]
  },
  {
   "cell_type": "code",
   "execution_count": 83,
   "metadata": {
    "collapsed": true
   },
   "outputs": [],
   "source": [
    "tfidfVectorizer = TfidfVectorizer(max_df=0.8,min_df=2,stop_words=customStopWords)"
   ]
  },
  {
   "cell_type": "code",
   "execution_count": 84,
   "metadata": {
    "collapsed": false
   },
   "outputs": [
    {
     "data": {
      "text/plain": [
       "<2804x13357 sparse matrix of type '<class 'numpy.float64'>'\n",
       "\twith 301082 stored elements in Compressed Sparse Row format>"
      ]
     },
     "execution_count": 84,
     "metadata": {},
     "output_type": "execute_result"
    }
   ],
   "source": [
    "X=''\n",
    "X = tfidfVectorizer.fit_transform(doxyDonkeyPosts)\n",
    "X"
   ]
  },
  {
   "cell_type": "code",
   "execution_count": 85,
   "metadata": {
    "collapsed": false
   },
   "outputs": [
    {
     "data": {
      "text/plain": [
       "<1x13357 sparse matrix of type '<class 'numpy.float64'>'\n",
       "\twith 116 stored elements in Compressed Sparse Row format>"
      ]
     },
     "execution_count": 85,
     "metadata": {},
     "output_type": "execute_result"
    }
   ],
   "source": [
    "X[0]"
   ]
  },
  {
   "cell_type": "code",
   "execution_count": 86,
   "metadata": {
    "collapsed": true
   },
   "outputs": [],
   "source": [
    "km = KMeans(n_clusters = 3, init = 'k-means++', max_iter = 100, n_init = 1, verbose = True)"
   ]
  },
  {
   "cell_type": "code",
   "execution_count": 87,
   "metadata": {
    "collapsed": false
   },
   "outputs": [
    {
     "name": "stdout",
     "output_type": "stream",
     "text": [
      "Initialization complete\n",
      "Iteration  0, inertia 5202.252\n",
      "Iteration  1, inertia 2678.905\n",
      "Iteration  2, inertia 2672.776\n",
      "Iteration  3, inertia 2671.008\n",
      "Iteration  4, inertia 2670.297\n",
      "Iteration  5, inertia 2669.933\n",
      "Iteration  6, inertia 2669.700\n",
      "Iteration  7, inertia 2669.621\n",
      "Iteration  8, inertia 2669.576\n",
      "Iteration  9, inertia 2669.544\n",
      "Iteration 10, inertia 2669.508\n",
      "Iteration 11, inertia 2669.490\n",
      "Iteration 12, inertia 2669.488\n",
      "Iteration 13, inertia 2669.487\n",
      "Iteration 14, inertia 2669.483\n",
      "Iteration 15, inertia 2669.471\n",
      "Iteration 16, inertia 2669.457\n",
      "Iteration 17, inertia 2669.452\n",
      "Iteration 18, inertia 2669.447\n",
      "Converged at iteration 18: center shift 0.000000e+00 within tolerance 7.232089e-09\n"
     ]
    },
    {
     "data": {
      "text/plain": [
       "KMeans(algorithm='auto', copy_x=True, init='k-means++', max_iter=100,\n",
       "    n_clusters=3, n_init=1, n_jobs=1, precompute_distances='auto',\n",
       "    random_state=None, tol=0.0001, verbose=True)"
      ]
     },
     "execution_count": 87,
     "metadata": {},
     "output_type": "execute_result"
    }
   ],
   "source": [
    "km.fit(X)"
   ]
  },
  {
   "cell_type": "code",
   "execution_count": 88,
   "metadata": {
    "collapsed": false
   },
   "outputs": [
    {
     "data": {
      "text/plain": [
       "(array([0, 1, 2]), array([ 372, 1071, 1361], dtype=int64))"
      ]
     },
     "execution_count": 88,
     "metadata": {},
     "output_type": "execute_result"
    }
   ],
   "source": [
    "np.unique(km.labels_, return_counts=True)"
   ]
  },
  {
   "cell_type": "code",
   "execution_count": 89,
   "metadata": {
    "collapsed": true
   },
   "outputs": [],
   "source": [
    "text={}\n",
    "for i,cluster in enumerate(km.labels_):\n",
    "    oneDocument = doxyDonkeyPosts[i]\n",
    "    if cluster not in text.keys():\n",
    "        text[cluster] = oneDocument\n",
    "    else:\n",
    "        text[cluster] += oneDocument"
   ]
  },
  {
   "cell_type": "code",
   "execution_count": 90,
   "metadata": {
    "collapsed": false
   },
   "outputs": [],
   "source": [
    "keywords = {}\n",
    "counts={}\n",
    "for cluster in range(3):\n",
    "    word_sent = nltk.word_tokenize(text[cluster].lower())\n",
    "    word_sent=[word for word in word_sent if word not in customStopWords]\n",
    "    freq = nltk.FreqDist(word_sent)\n",
    "    keywords[cluster] = nlargest(100, freq, key=freq.get)\n",
    "    counts[cluster]=freq"
   ]
  },
  {
   "cell_type": "code",
   "execution_count": 91,
   "metadata": {
    "collapsed": false
   },
   "outputs": [
    {
     "name": "stdout",
     "output_type": "stream",
     "text": [
      "[1, 2]\n",
      "{'global', 'online', 'google', 'still', 'car', 'advertisers', 'way', 'made', 'internet', 'products', 'product', 'cloud', 'e-commerce', 'plans', 'biggest', 'inc.', 'companies', 'india', 'funding', 'tesla', 'today', '1', 'data', 'information', 'last', 'financial', 'users', 'social', 'value', 'facebook', 'network', 'government', 'valuation', 'web', 'revenue', 'user', 'group', 'month', 'chief', 'instagram', 'private', 'around', 'market', 'offering', 'time', 'money', 'amazon', 'may', 'messaging', 'ad', 'two', 'public', 'app', 'technology', 'years', 'digital', 'business', 'customer', 'consumers', 'chinese', 'snapchat', 'sales', 'videos', 'microsoft', 'percent', 'including', 'called', 'mobile', 'video', 'work', 'search', 'one', 'feature', 'media', 'deal', 'china', 'apps', 'apple', 'store', 'industry', 'investment', 'price', 'lyft', 'cash', 'customers', 'big', 'using', 'round', 'drivers', 'platform', 'alibaba', 'even', 'ads', 'brands', 'share', 'cars', 'capital', 'would', 'uber', 'devices', 'employees', 'firm', 'see', 'world', 'u.s.', 'stock', 'startup', 'people', 'according', 'day', 'advertising', 'many', 'venture', 'also', 'investors', 'number', 'service', 'services', 'shares', 'first', 'use', 'since', 'growth', 'software', 'could', 'months', 'pay', 'free', 'make', 'site', 'businesses', 'youtube', 'tech', 'get', 'part', 'already', 'announced', 'new', 'help', 'buy', 'executive', 'largest', 'android', 'says', 'raised', 'content', 'twitter', 'ipo', 'much', 'news'}\n",
      "[0, 2]\n",
      "{'street', 'global', 'fell', 'online', 'google', 'still', 'car', 'analysts', 'expectations', 'operating', 'period', 'made', 'internet', 'products', 'thursday', 'cloud', 'e-commerce', 'plans', 'biggest', 'loss', 'total', 'inc.', 'companies', 'after-hours', 'india', 'funding', 'earlier', 'tesla', '1', 'data', 'last', 'financial', 'users', 'value', 'facebook', 'earnings', 'government', 'valuation', 'rose', 'revenue', 'group', 'chief', 'month', 'private', 'around', 'market', 'yuan', 'offering', 'time', 'money', 'amazon', 'may', 'increased', 'two', 'public', 'technology', 'years', 'app', 'business', 'chinese', 'sales', 'strong', 'microsoft', 'percent', 'per', 'including', 'quarterly', 'mobile', 'tuesday', 'one', '10', 'deal', 'demand', 'china', 'apple', 'wednesday', 'inc', 'industry', 'investment', 'price', 'lyft', 'cash', 'fourth', 'yahoo', 'customers', 'big', 'round', 'report', 'drivers', 'alibaba', 'even', 'analyst', 'share', 'cars', 'capital', 'would', 'cents', 'uber', 'expected', 'employees', 'firm', 'world', 'income', 'results', 'stock', 'u.s.', 'increase', 'startup', 'iphone', 'three', 'people', 'according', 'advertising', 'average', 'reported', 'many', 'venture', 'third', 'quarter', 'net', 'trading', 'also', 'investors', 'service', 'services', 'shares', 'first', 'samsung', 'use', 'since', 'growth', 'estimates', 'software', 'second', 'could', 'months', 'pay', 'make', 'wall', 'forecast', 'linkedin', 'compared', 'businesses', 'tech', 'get', 'part', 'new', 'executive', 'largest', 'profit', 'says', 'smartphone', 'intel', 'raised', 'ipo', 'twitter', 'extended', 'ended', 'much', 'ago'}\n",
      "[0, 1]\n",
      "{'street', 'fell', 'online', 'google', 'still', 'advertisers', 'analysts', 'expectations', 'operating', 'period', 'way', 'made', 'internet', 'products', 'product', 'thursday', 'cloud', 'loss', 'total', 'inc.', 'companies', 'after-hours', 'earlier', 'today', 'data', 'information', 'last', 'financial', 'users', 'social', 'facebook', 'network', 'earnings', 'rose', 'web', 'revenue', 'user', 'chief', 'month', 'instagram', 'around', 'market', 'yuan', 'time', 'amazon', 'may', 'increased', 'messaging', 'ad', 'two', 'app', 'years', 'technology', 'digital', 'business', 'customer', 'consumers', 'snapchat', 'sales', 'strong', 'videos', 'microsoft', 'percent', 'per', 'including', 'called', 'quarterly', 'mobile', 'video', 'tuesday', 'work', 'search', 'one', 'feature', '10', 'media', 'demand', 'china', 'apps', 'apple', 'wednesday', 'inc', 'store', 'price', 'fourth', 'yahoo', 'customers', 'big', 'using', 'report', 'platform', 'alibaba', 'even', 'analyst', 'ads', 'brands', 'share', 'would', 'cents', 'expected', 'devices', 'see', 'world', 'income', 'results', 'stock', 'u.s.', 'increase', 'iphone', 'three', 'people', 'according', 'day', 'advertising', 'average', 'reported', 'many', 'third', 'quarter', 'net', 'trading', 'also', 'investors', 'number', 'service', 'services', 'shares', 'first', 'samsung', 'use', 'since', 'growth', 'estimates', 'software', 'second', 'could', 'pay', 'free', 'make', 'wall', 'site', 'forecast', 'linkedin', 'compared', 'businesses', 'youtube', 'tech', 'get', 'already', 'announced', 'new', 'executive', 'help', 'buy', 'android', 'profit', 'says', 'smartphone', 'intel', 'content', 'twitter', 'extended', 'ended', 'much', 'ago', 'news'}\n"
     ]
    }
   ],
   "source": [
    "unique_keys = {}\n",
    "for cluster in range(3):\n",
    "    other_clusters=list(set(range(3))-set([cluster]))\n",
    "    keys_other_clusters=set(keywords[other_clusters[0]]).union(set(keywords[other_clusters[1]]))\n",
    "    print(other_clusters)\n",
    "    print(set(keywords[other_clusters[0]]).union(set(keywords[other_clusters[1]])))"
   ]
  },
  {
   "cell_type": "code",
   "execution_count": 92,
   "metadata": {
    "collapsed": false
   },
   "outputs": [],
   "source": [
    "unique_keys = {}\n",
    "for cluster in range(3):\n",
    "    other_clusters=list(set(range(3))-set([cluster]))\n",
    "    keys_other_clusters=set(keywords[other_clusters[0]]).union(set(keywords[other_clusters[1]]))\n",
    "    unique=set(keywords[cluster])-keys_other_clusters\n",
    "    unique_keys[cluster]=nlargest(10, unique, key=counts[cluster].get)"
   ]
  },
  {
   "cell_type": "code",
   "execution_count": 93,
   "metadata": {
    "collapsed": false,
    "scrolled": false
   },
   "outputs": [
    {
     "data": {
      "text/plain": [
       "{0: ['quarter',\n",
       "  'profit',\n",
       "  'rose',\n",
       "  'earnings',\n",
       "  'analysts',\n",
       "  'cents',\n",
       "  'net',\n",
       "  'per',\n",
       "  'fell',\n",
       "  'reported'],\n",
       " 1: ['ads',\n",
       "  'video',\n",
       "  'search',\n",
       "  'ad',\n",
       "  'product',\n",
       "  'apps',\n",
       "  'social',\n",
       "  'way',\n",
       "  'buy',\n",
       "  'web'],\n",
       " 2: ['uber',\n",
       "  'india',\n",
       "  'chinese',\n",
       "  'round',\n",
       "  'capital',\n",
       "  'money',\n",
       "  'public',\n",
       "  'deal',\n",
       "  'firm',\n",
       "  'raised']}"
      ]
     },
     "execution_count": 93,
     "metadata": {},
     "output_type": "execute_result"
    }
   ],
   "source": [
    "unique_keys"
   ]
  },
  {
   "cell_type": "markdown",
   "metadata": {},
   "source": [
    "**3. Assign themes to new articles**\n",
    "\n",
    "Taken a random article and checking whether it is lying in the right cluster or not.\n",
    "\n",
    "As you can see below article is related to social networking and it should come under that theme only. I've used KNN classification algorithm to find out right theme of article."
   ]
  },
  {
   "cell_type": "code",
   "execution_count": 94,
   "metadata": {
    "collapsed": true
   },
   "outputs": [],
   "source": [
    "article = \"Facebook Inc. has been giving advertisers an inflated metric for the average time users spent watching a video, a measurement that may have helped boost marketer spending on one of Facebook’s most popular ad products. The company, owner of the world’s largest social network, only counts a video as viewed if it has been seen for more than 3 seconds. The metric it gave advertisers for their average video view time incorporated only the people who had watched the video long enough to count as a view in the first place, inflating the metric because it didn’t count anyone who didn’t watch, or watched for a shorter time. Facebook’s stock fell more than 1.5 percent in extended trading after the miscalculation was earlier reported in the Wall Street Journal. Facebook had disclosed the mistake in a posting on its advertiser help center web page several weeks ago. Big advertising buyers and marketers are upset about the inflated metric, and asked the company for more details, according to the report in the Journal, citing unidentified people familiar with the situation. The Menlo Park, California-based company has kept revenue surging in part because of enthusiasm for its video ads, which advertisers compare in performance to those on Twitter, YouTube and around the web.\""
   ]
  },
  {
   "cell_type": "code",
   "execution_count": 95,
   "metadata": {
    "collapsed": false
   },
   "outputs": [
    {
     "data": {
      "text/plain": [
       "KNeighborsClassifier(algorithm='auto', leaf_size=30, metric='minkowski',\n",
       "           metric_params=None, n_jobs=1, n_neighbors=3, p=2,\n",
       "           weights='uniform')"
      ]
     },
     "execution_count": 95,
     "metadata": {},
     "output_type": "execute_result"
    }
   ],
   "source": [
    "classifier = KNeighborsClassifier(n_neighbors=3)\n",
    "classifier.fit(X,km.labels_)"
   ]
  },
  {
   "cell_type": "code",
   "execution_count": 96,
   "metadata": {
    "collapsed": false
   },
   "outputs": [],
   "source": [
    "test=tfidfVectorizer.transform([article])"
   ]
  },
  {
   "cell_type": "code",
   "execution_count": 97,
   "metadata": {
    "collapsed": false
   },
   "outputs": [
    {
     "data": {
      "text/plain": [
       "<1x13357 sparse matrix of type '<class 'numpy.float64'>'\n",
       "\twith 94 stored elements in Compressed Sparse Row format>"
      ]
     },
     "execution_count": 97,
     "metadata": {},
     "output_type": "execute_result"
    }
   ],
   "source": [
    "test"
   ]
  },
  {
   "cell_type": "code",
   "execution_count": 98,
   "metadata": {
    "collapsed": false
   },
   "outputs": [
    {
     "data": {
      "text/plain": [
       "array([2])"
      ]
     },
     "execution_count": 98,
     "metadata": {},
     "output_type": "execute_result"
    }
   ],
   "source": [
    "classifier.predict(test)"
   ]
  },
  {
   "cell_type": "code",
   "execution_count": null,
   "metadata": {
    "collapsed": true
   },
   "outputs": [],
   "source": []
  },
  {
   "cell_type": "code",
   "execution_count": null,
   "metadata": {
    "collapsed": true
   },
   "outputs": [],
   "source": []
  },
  {
   "cell_type": "code",
   "execution_count": null,
   "metadata": {
    "collapsed": true
   },
   "outputs": [],
   "source": []
  },
  {
   "cell_type": "code",
   "execution_count": null,
   "metadata": {
    "collapsed": true
   },
   "outputs": [],
   "source": []
  },
  {
   "cell_type": "code",
   "execution_count": null,
   "metadata": {
    "collapsed": true
   },
   "outputs": [],
   "source": []
  },
  {
   "cell_type": "code",
   "execution_count": null,
   "metadata": {
    "collapsed": true
   },
   "outputs": [],
   "source": []
  },
  {
   "cell_type": "code",
   "execution_count": null,
   "metadata": {
    "collapsed": true
   },
   "outputs": [],
   "source": []
  },
  {
   "cell_type": "code",
   "execution_count": null,
   "metadata": {
    "collapsed": true
   },
   "outputs": [],
   "source": []
  },
  {
   "cell_type": "code",
   "execution_count": null,
   "metadata": {
    "collapsed": true
   },
   "outputs": [],
   "source": []
  }
 ],
 "metadata": {
  "celltoolbar": "Raw Cell Format",
  "kernelspec": {
   "display_name": "Python 3",
   "language": "python",
   "name": "python3"
  },
  "language_info": {
   "codemirror_mode": {
    "name": "ipython",
    "version": 3
   },
   "file_extension": ".py",
   "mimetype": "text/x-python",
   "name": "python",
   "nbconvert_exporter": "python",
   "pygments_lexer": "ipython3",
   "version": "3.6.0"
  }
 },
 "nbformat": 4,
 "nbformat_minor": 0
}
